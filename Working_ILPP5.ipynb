{
 "cells": [
  {
   "cell_type": "markdown",
   "metadata": {},
   "source": [
    "# Introduction to Linear Programming with Python - Part 5\n",
    "## Using PuLP with pandas and binary constraints to solve a scheduling problem"
   ]
  },
  {
   "cell_type": "markdown",
   "metadata": {},
   "source": [
    "In this example, we'll be solving a scheduling problem. We have 5 pilots and 10 different go's to fill\n",
    "\n",
    "We want to produce a schedule of pilots from both plants that meets our demand with the lowest cost.\n",
    "\n",
    "A pilot can be in 2 states:\n",
    "* Off - not flying\n",
    "* On - flying\n",
    "\n",
    "Pilots are either available or not available for each go.\n",
    "\n",
    "Goal is to fill the schedule with each pilot getting as few flights as possible"
   ]
  },
  {
   "cell_type": "code",
   "execution_count": 1,
   "metadata": {},
   "outputs": [],
   "source": [
    "import pandas as pd\n",
    "import pulp\n",
    "#import math"
   ]
  },
  {
   "cell_type": "code",
   "execution_count": 2,
   "metadata": {},
   "outputs": [
    {
     "data": {
      "text/html": [
       "<div>\n",
       "<style scoped>\n",
       "    .dataframe tbody tr th:only-of-type {\n",
       "        vertical-align: middle;\n",
       "    }\n",
       "\n",
       "    .dataframe tbody tr th {\n",
       "        vertical-align: top;\n",
       "    }\n",
       "\n",
       "    .dataframe thead th {\n",
       "        text-align: right;\n",
       "    }\n",
       "</style>\n",
       "<table border=\"1\" class=\"dataframe\">\n",
       "  <thead>\n",
       "    <tr style=\"text-align: right;\">\n",
       "      <th></th>\n",
       "      <th>1</th>\n",
       "      <th>2</th>\n",
       "      <th>3</th>\n",
       "      <th>4</th>\n",
       "      <th>5</th>\n",
       "      <th>6</th>\n",
       "      <th>7</th>\n",
       "      <th>8</th>\n",
       "      <th>9</th>\n",
       "    </tr>\n",
       "    <tr>\n",
       "      <th>PILOT</th>\n",
       "      <th></th>\n",
       "      <th></th>\n",
       "      <th></th>\n",
       "      <th></th>\n",
       "      <th></th>\n",
       "      <th></th>\n",
       "      <th></th>\n",
       "      <th></th>\n",
       "      <th></th>\n",
       "    </tr>\n",
       "  </thead>\n",
       "  <tbody>\n",
       "    <tr>\n",
       "      <th>A</th>\n",
       "      <td>0</td>\n",
       "      <td>1</td>\n",
       "      <td>0</td>\n",
       "      <td>1</td>\n",
       "      <td>1</td>\n",
       "      <td>0</td>\n",
       "      <td>1</td>\n",
       "      <td>0</td>\n",
       "      <td>0</td>\n",
       "    </tr>\n",
       "    <tr>\n",
       "      <th>B</th>\n",
       "      <td>0</td>\n",
       "      <td>1</td>\n",
       "      <td>0</td>\n",
       "      <td>1</td>\n",
       "      <td>1</td>\n",
       "      <td>0</td>\n",
       "      <td>1</td>\n",
       "      <td>1</td>\n",
       "      <td>1</td>\n",
       "    </tr>\n",
       "    <tr>\n",
       "      <th>C</th>\n",
       "      <td>1</td>\n",
       "      <td>0</td>\n",
       "      <td>1</td>\n",
       "      <td>1</td>\n",
       "      <td>1</td>\n",
       "      <td>0</td>\n",
       "      <td>1</td>\n",
       "      <td>1</td>\n",
       "      <td>1</td>\n",
       "    </tr>\n",
       "    <tr>\n",
       "      <th>D</th>\n",
       "      <td>0</td>\n",
       "      <td>0</td>\n",
       "      <td>1</td>\n",
       "      <td>1</td>\n",
       "      <td>0</td>\n",
       "      <td>1</td>\n",
       "      <td>0</td>\n",
       "      <td>0</td>\n",
       "      <td>0</td>\n",
       "    </tr>\n",
       "    <tr>\n",
       "      <th>E</th>\n",
       "      <td>1</td>\n",
       "      <td>0</td>\n",
       "      <td>1</td>\n",
       "      <td>0</td>\n",
       "      <td>1</td>\n",
       "      <td>0</td>\n",
       "      <td>1</td>\n",
       "      <td>0</td>\n",
       "      <td>0</td>\n",
       "    </tr>\n",
       "  </tbody>\n",
       "</table>\n",
       "</div>"
      ],
      "text/plain": [
       "       1  2  3  4  5  6  7  8  9\n",
       "PILOT                           \n",
       "A      0  1  0  1  1  0  1  0  0\n",
       "B      0  1  0  1  1  0  1  1  1\n",
       "C      1  0  1  1  1  0  1  1  1\n",
       "D      0  0  1  1  0  1  0  0  0\n",
       "E      1  0  1  0  1  0  1  0  0"
      ]
     },
     "execution_count": 2,
     "metadata": {},
     "output_type": "execute_result"
    }
   ],
   "source": [
    "pilots = pd.read_csv('csv/pilot_availability_v2.csv',index_col=['PILOT'])\n",
    "pilots"
   ]
  },
  {
   "cell_type": "code",
   "execution_count": 3,
   "metadata": {},
   "outputs": [
    {
     "data": {
      "text/html": [
       "<div>\n",
       "<style scoped>\n",
       "    .dataframe tbody tr th:only-of-type {\n",
       "        vertical-align: middle;\n",
       "    }\n",
       "\n",
       "    .dataframe tbody tr th {\n",
       "        vertical-align: top;\n",
       "    }\n",
       "\n",
       "    .dataframe thead th {\n",
       "        text-align: right;\n",
       "    }\n",
       "</style>\n",
       "<table border=\"1\" class=\"dataframe\">\n",
       "  <thead>\n",
       "    <tr style=\"text-align: right;\">\n",
       "      <th></th>\n",
       "      <th>QUAL</th>\n",
       "    </tr>\n",
       "    <tr>\n",
       "      <th>PILOT</th>\n",
       "      <th></th>\n",
       "    </tr>\n",
       "  </thead>\n",
       "  <tbody>\n",
       "    <tr>\n",
       "      <th>A</th>\n",
       "      <td>2</td>\n",
       "    </tr>\n",
       "    <tr>\n",
       "      <th>B</th>\n",
       "      <td>1</td>\n",
       "    </tr>\n",
       "    <tr>\n",
       "      <th>C</th>\n",
       "      <td>2</td>\n",
       "    </tr>\n",
       "    <tr>\n",
       "      <th>D</th>\n",
       "      <td>1</td>\n",
       "    </tr>\n",
       "    <tr>\n",
       "      <th>E</th>\n",
       "      <td>2</td>\n",
       "    </tr>\n",
       "  </tbody>\n",
       "</table>\n",
       "</div>"
      ],
      "text/plain": [
       "       QUAL\n",
       "PILOT      \n",
       "A         2\n",
       "B         1\n",
       "C         2\n",
       "D         1\n",
       "E         2"
      ]
     },
     "execution_count": 3,
     "metadata": {},
     "output_type": "execute_result"
    }
   ],
   "source": [
    "pilot_quals = pd.read_csv('csv/pilot_qual.csv',index_col=['PILOT'])\n",
    "pilot_quals"
   ]
  },
  {
   "cell_type": "markdown",
   "metadata": {},
   "source": [
    "We'll also import our demand data"
   ]
  },
  {
   "cell_type": "code",
   "execution_count": 19,
   "metadata": {},
   "outputs": [
    {
     "data": {
      "text/html": [
       "<div>\n",
       "<style scoped>\n",
       "    .dataframe tbody tr th:only-of-type {\n",
       "        vertical-align: middle;\n",
       "    }\n",
       "\n",
       "    .dataframe tbody tr th {\n",
       "        vertical-align: top;\n",
       "    }\n",
       "\n",
       "    .dataframe thead th {\n",
       "        text-align: right;\n",
       "    }\n",
       "</style>\n",
       "<table border=\"1\" class=\"dataframe\">\n",
       "  <thead>\n",
       "    <tr style=\"text-align: right;\">\n",
       "      <th></th>\n",
       "      <th></th>\n",
       "      <th>Requirement</th>\n",
       "    </tr>\n",
       "    <tr>\n",
       "      <th>GO</th>\n",
       "      <th>Line</th>\n",
       "      <th></th>\n",
       "    </tr>\n",
       "  </thead>\n",
       "  <tbody>\n",
       "    <tr>\n",
       "      <th rowspan=\"2\" valign=\"top\">1</th>\n",
       "      <th>101</th>\n",
       "      <td>2</td>\n",
       "    </tr>\n",
       "    <tr>\n",
       "      <th>102</th>\n",
       "      <td>1</td>\n",
       "    </tr>\n",
       "    <tr>\n",
       "      <th>2</th>\n",
       "      <th>201</th>\n",
       "      <td>2</td>\n",
       "    </tr>\n",
       "    <tr>\n",
       "      <th rowspan=\"2\" valign=\"top\">3</th>\n",
       "      <th>301</th>\n",
       "      <td>2</td>\n",
       "    </tr>\n",
       "    <tr>\n",
       "      <th>302</th>\n",
       "      <td>1</td>\n",
       "    </tr>\n",
       "    <tr>\n",
       "      <th>4</th>\n",
       "      <th>401</th>\n",
       "      <td>2</td>\n",
       "    </tr>\n",
       "    <tr>\n",
       "      <th rowspan=\"2\" valign=\"top\">5</th>\n",
       "      <th>501</th>\n",
       "      <td>2</td>\n",
       "    </tr>\n",
       "    <tr>\n",
       "      <th>502</th>\n",
       "      <td>1</td>\n",
       "    </tr>\n",
       "    <tr>\n",
       "      <th>6</th>\n",
       "      <th>601</th>\n",
       "      <td>2</td>\n",
       "    </tr>\n",
       "    <tr>\n",
       "      <th rowspan=\"2\" valign=\"top\">7</th>\n",
       "      <th>701</th>\n",
       "      <td>2</td>\n",
       "    </tr>\n",
       "    <tr>\n",
       "      <th>702</th>\n",
       "      <td>1</td>\n",
       "    </tr>\n",
       "    <tr>\n",
       "      <th>8</th>\n",
       "      <th>801</th>\n",
       "      <td>2</td>\n",
       "    </tr>\n",
       "    <tr>\n",
       "      <th rowspan=\"2\" valign=\"top\">9</th>\n",
       "      <th>901</th>\n",
       "      <td>2</td>\n",
       "    </tr>\n",
       "    <tr>\n",
       "      <th>902</th>\n",
       "      <td>1</td>\n",
       "    </tr>\n",
       "  </tbody>\n",
       "</table>\n",
       "</div>"
      ],
      "text/plain": [
       "         Requirement\n",
       "GO Line             \n",
       "1  101             2\n",
       "   102             1\n",
       "2  201             2\n",
       "3  301             2\n",
       "   302             1\n",
       "4  401             2\n",
       "5  501             2\n",
       "   502             1\n",
       "6  601             2\n",
       "7  701             2\n",
       "   702             1\n",
       "8  801             2\n",
       "9  901             2\n",
       "   902             1"
      ]
     },
     "execution_count": 19,
     "metadata": {},
     "output_type": "execute_result"
    }
   ],
   "source": [
    "lines = pd.read_csv('csv/go_demand.csv', index_col=['GO','Line'])\n",
    "lines"
   ]
  },
  {
   "cell_type": "code",
   "execution_count": 21,
   "metadata": {},
   "outputs": [
    {
     "data": {
      "text/plain": [
       "Index(['Requirement'], dtype='object')"
      ]
     },
     "execution_count": 21,
     "metadata": {},
     "output_type": "execute_result"
    }
   ],
   "source": [
    "lines.columns"
   ]
  },
  {
   "cell_type": "markdown",
   "metadata": {},
   "source": [
    "Pilot status is modelled as a binary variable. It will have a value of 1 if the pilot is flying and a value of 0 when the pilot is off.\n",
    "\n",
    "Binary variables are the same as integer variables but constrained to be >= 0 and <=1\n",
    "\n",
    "Again this has a value for each month for each factory, again given by the index of our DataFrame"
   ]
  },
  {
   "cell_type": "code",
   "execution_count": 5,
   "metadata": {},
   "outputs": [
    {
     "data": {
      "text/plain": [
       "pandas.core.frame.DataFrame"
      ]
     },
     "execution_count": 5,
     "metadata": {},
     "output_type": "execute_result"
    }
   ],
   "source": [
    "type(pilots)"
   ]
  },
  {
   "cell_type": "code",
   "execution_count": 6,
   "metadata": {},
   "outputs": [],
   "source": [
    "pilot_status = pulp.LpVariable.dicts(\"pilot_status\",\n",
    "                                     ((Line,PILOT) for Line  in lines.index for PILOT in pilots.index ),\n",
    "                                     cat='Binary')"
   ]
  },
  {
   "cell_type": "code",
   "execution_count": 7,
   "metadata": {},
   "outputs": [
    {
     "data": {
      "text/plain": [
       "{((1, 101), 'A'): pilot_status_((1,_101),_'A'),\n",
       " ((1, 101), 'B'): pilot_status_((1,_101),_'B'),\n",
       " ((1, 101), 'C'): pilot_status_((1,_101),_'C'),\n",
       " ((1, 101), 'D'): pilot_status_((1,_101),_'D'),\n",
       " ((1, 101), 'E'): pilot_status_((1,_101),_'E'),\n",
       " ((1, 102), 'A'): pilot_status_((1,_102),_'A'),\n",
       " ((1, 102), 'B'): pilot_status_((1,_102),_'B'),\n",
       " ((1, 102), 'C'): pilot_status_((1,_102),_'C'),\n",
       " ((1, 102), 'D'): pilot_status_((1,_102),_'D'),\n",
       " ((1, 102), 'E'): pilot_status_((1,_102),_'E'),\n",
       " ((2, 201), 'A'): pilot_status_((2,_201),_'A'),\n",
       " ((2, 201), 'B'): pilot_status_((2,_201),_'B'),\n",
       " ((2, 201), 'C'): pilot_status_((2,_201),_'C'),\n",
       " ((2, 201), 'D'): pilot_status_((2,_201),_'D'),\n",
       " ((2, 201), 'E'): pilot_status_((2,_201),_'E'),\n",
       " ((3, 301), 'A'): pilot_status_((3,_301),_'A'),\n",
       " ((3, 301), 'B'): pilot_status_((3,_301),_'B'),\n",
       " ((3, 301), 'C'): pilot_status_((3,_301),_'C'),\n",
       " ((3, 301), 'D'): pilot_status_((3,_301),_'D'),\n",
       " ((3, 301), 'E'): pilot_status_((3,_301),_'E'),\n",
       " ((3, 302), 'A'): pilot_status_((3,_302),_'A'),\n",
       " ((3, 302), 'B'): pilot_status_((3,_302),_'B'),\n",
       " ((3, 302), 'C'): pilot_status_((3,_302),_'C'),\n",
       " ((3, 302), 'D'): pilot_status_((3,_302),_'D'),\n",
       " ((3, 302), 'E'): pilot_status_((3,_302),_'E'),\n",
       " ((4, 401), 'A'): pilot_status_((4,_401),_'A'),\n",
       " ((4, 401), 'B'): pilot_status_((4,_401),_'B'),\n",
       " ((4, 401), 'C'): pilot_status_((4,_401),_'C'),\n",
       " ((4, 401), 'D'): pilot_status_((4,_401),_'D'),\n",
       " ((4, 401), 'E'): pilot_status_((4,_401),_'E'),\n",
       " ((5, 501), 'A'): pilot_status_((5,_501),_'A'),\n",
       " ((5, 501), 'B'): pilot_status_((5,_501),_'B'),\n",
       " ((5, 501), 'C'): pilot_status_((5,_501),_'C'),\n",
       " ((5, 501), 'D'): pilot_status_((5,_501),_'D'),\n",
       " ((5, 501), 'E'): pilot_status_((5,_501),_'E'),\n",
       " ((5, 502), 'A'): pilot_status_((5,_502),_'A'),\n",
       " ((5, 502), 'B'): pilot_status_((5,_502),_'B'),\n",
       " ((5, 502), 'C'): pilot_status_((5,_502),_'C'),\n",
       " ((5, 502), 'D'): pilot_status_((5,_502),_'D'),\n",
       " ((5, 502), 'E'): pilot_status_((5,_502),_'E'),\n",
       " ((6, 601), 'A'): pilot_status_((6,_601),_'A'),\n",
       " ((6, 601), 'B'): pilot_status_((6,_601),_'B'),\n",
       " ((6, 601), 'C'): pilot_status_((6,_601),_'C'),\n",
       " ((6, 601), 'D'): pilot_status_((6,_601),_'D'),\n",
       " ((6, 601), 'E'): pilot_status_((6,_601),_'E'),\n",
       " ((7, 701), 'A'): pilot_status_((7,_701),_'A'),\n",
       " ((7, 701), 'B'): pilot_status_((7,_701),_'B'),\n",
       " ((7, 701), 'C'): pilot_status_((7,_701),_'C'),\n",
       " ((7, 701), 'D'): pilot_status_((7,_701),_'D'),\n",
       " ((7, 701), 'E'): pilot_status_((7,_701),_'E'),\n",
       " ((7, 702), 'A'): pilot_status_((7,_702),_'A'),\n",
       " ((7, 702), 'B'): pilot_status_((7,_702),_'B'),\n",
       " ((7, 702), 'C'): pilot_status_((7,_702),_'C'),\n",
       " ((7, 702), 'D'): pilot_status_((7,_702),_'D'),\n",
       " ((7, 702), 'E'): pilot_status_((7,_702),_'E'),\n",
       " ((8, 801), 'A'): pilot_status_((8,_801),_'A'),\n",
       " ((8, 801), 'B'): pilot_status_((8,_801),_'B'),\n",
       " ((8, 801), 'C'): pilot_status_((8,_801),_'C'),\n",
       " ((8, 801), 'D'): pilot_status_((8,_801),_'D'),\n",
       " ((8, 801), 'E'): pilot_status_((8,_801),_'E'),\n",
       " ((9, 901), 'A'): pilot_status_((9,_901),_'A'),\n",
       " ((9, 901), 'B'): pilot_status_((9,_901),_'B'),\n",
       " ((9, 901), 'C'): pilot_status_((9,_901),_'C'),\n",
       " ((9, 901), 'D'): pilot_status_((9,_901),_'D'),\n",
       " ((9, 901), 'E'): pilot_status_((9,_901),_'E'),\n",
       " ((9, 902), 'A'): pilot_status_((9,_902),_'A'),\n",
       " ((9, 902), 'B'): pilot_status_((9,_902),_'B'),\n",
       " ((9, 902), 'C'): pilot_status_((9,_902),_'C'),\n",
       " ((9, 902), 'D'): pilot_status_((9,_902),_'D'),\n",
       " ((9, 902), 'E'): pilot_status_((9,_902),_'E')}"
      ]
     },
     "execution_count": 7,
     "metadata": {},
     "output_type": "execute_result"
    }
   ],
   "source": [
    "pilot_status"
   ]
  },
  {
   "cell_type": "markdown",
   "metadata": {},
   "source": [
    "We instantiate our model and use LpMinimize as the aim is to minimise costs."
   ]
  },
  {
   "cell_type": "code",
   "execution_count": 8,
   "metadata": {},
   "outputs": [],
   "source": [
    "model = pulp.LpProblem(\"PilotMinSchedProb\", pulp.LpMinimize)"
   ]
  },
  {
   "cell_type": "markdown",
   "metadata": {},
   "source": [
    "In our objective function we include our 2 costs: \n",
    "* Our variable costs is the product of the variable costs per unit and production\n",
    "* Our fixed costs is the factory status - 1 (on) or 0 (off) - multiplied by the fixed cost of production"
   ]
  },
  {
   "cell_type": "code",
   "execution_count": 9,
   "metadata": {},
   "outputs": [],
   "source": [
    "model += pulp.lpSum(\n",
    "  1\n",
    ")"
   ]
  },
  {
   "cell_type": "code",
   "execution_count": 10,
   "metadata": {},
   "outputs": [
    {
     "data": {
      "text/plain": [
       "PilotMinSchedProb:\n",
       "MINIMIZE\n",
       "1\n",
       "VARIABLES"
      ]
     },
     "execution_count": 10,
     "metadata": {},
     "output_type": "execute_result"
    }
   ],
   "source": [
    "model"
   ]
  },
  {
   "cell_type": "markdown",
   "metadata": {},
   "source": [
    "We build up our constraints"
   ]
  },
  {
   "cell_type": "code",
   "execution_count": 11,
   "metadata": {},
   "outputs": [],
   "source": [
    "for line in lines.index:\n",
    "    model += sum(pilot_status[(line,x)]*pilot_quals.loc[x,'QUAL'] for x in pilots.index) >= lines.loc[line, 'Requirement']"
   ]
  },
  {
   "cell_type": "code",
   "execution_count": 12,
   "metadata": {},
   "outputs": [
    {
     "data": {
      "text/plain": [
       "PilotMinSchedProb:\n",
       "MINIMIZE\n",
       "1\n",
       "SUBJECT TO\n",
       "_C1: 2 pilot_status_((1,_101),_'A') + pilot_status_((1,_101),_'B')\n",
       " + 2 pilot_status_((1,_101),_'C') + pilot_status_((1,_101),_'D')\n",
       " + 2 pilot_status_((1,_101),_'E') >= 2\n",
       "\n",
       "_C2: 2 pilot_status_((1,_102),_'A') + pilot_status_((1,_102),_'B')\n",
       " + 2 pilot_status_((1,_102),_'C') + pilot_status_((1,_102),_'D')\n",
       " + 2 pilot_status_((1,_102),_'E') >= 1\n",
       "\n",
       "_C3: 2 pilot_status_((2,_201),_'A') + pilot_status_((2,_201),_'B')\n",
       " + 2 pilot_status_((2,_201),_'C') + pilot_status_((2,_201),_'D')\n",
       " + 2 pilot_status_((2,_201),_'E') >= 2\n",
       "\n",
       "_C4: 2 pilot_status_((3,_301),_'A') + pilot_status_((3,_301),_'B')\n",
       " + 2 pilot_status_((3,_301),_'C') + pilot_status_((3,_301),_'D')\n",
       " + 2 pilot_status_((3,_301),_'E') >= 2\n",
       "\n",
       "_C5: 2 pilot_status_((3,_302),_'A') + pilot_status_((3,_302),_'B')\n",
       " + 2 pilot_status_((3,_302),_'C') + pilot_status_((3,_302),_'D')\n",
       " + 2 pilot_status_((3,_302),_'E') >= 1\n",
       "\n",
       "_C6: 2 pilot_status_((4,_401),_'A') + pilot_status_((4,_401),_'B')\n",
       " + 2 pilot_status_((4,_401),_'C') + pilot_status_((4,_401),_'D')\n",
       " + 2 pilot_status_((4,_401),_'E') >= 2\n",
       "\n",
       "_C7: 2 pilot_status_((5,_501),_'A') + pilot_status_((5,_501),_'B')\n",
       " + 2 pilot_status_((5,_501),_'C') + pilot_status_((5,_501),_'D')\n",
       " + 2 pilot_status_((5,_501),_'E') >= 2\n",
       "\n",
       "_C8: 2 pilot_status_((5,_502),_'A') + pilot_status_((5,_502),_'B')\n",
       " + 2 pilot_status_((5,_502),_'C') + pilot_status_((5,_502),_'D')\n",
       " + 2 pilot_status_((5,_502),_'E') >= 1\n",
       "\n",
       "_C9: 2 pilot_status_((6,_601),_'A') + pilot_status_((6,_601),_'B')\n",
       " + 2 pilot_status_((6,_601),_'C') + pilot_status_((6,_601),_'D')\n",
       " + 2 pilot_status_((6,_601),_'E') >= 2\n",
       "\n",
       "_C10: 2 pilot_status_((7,_701),_'A') + pilot_status_((7,_701),_'B')\n",
       " + 2 pilot_status_((7,_701),_'C') + pilot_status_((7,_701),_'D')\n",
       " + 2 pilot_status_((7,_701),_'E') >= 2\n",
       "\n",
       "_C11: 2 pilot_status_((7,_702),_'A') + pilot_status_((7,_702),_'B')\n",
       " + 2 pilot_status_((7,_702),_'C') + pilot_status_((7,_702),_'D')\n",
       " + 2 pilot_status_((7,_702),_'E') >= 1\n",
       "\n",
       "_C12: 2 pilot_status_((8,_801),_'A') + pilot_status_((8,_801),_'B')\n",
       " + 2 pilot_status_((8,_801),_'C') + pilot_status_((8,_801),_'D')\n",
       " + 2 pilot_status_((8,_801),_'E') >= 2\n",
       "\n",
       "_C13: 2 pilot_status_((9,_901),_'A') + pilot_status_((9,_901),_'B')\n",
       " + 2 pilot_status_((9,_901),_'C') + pilot_status_((9,_901),_'D')\n",
       " + 2 pilot_status_((9,_901),_'E') >= 2\n",
       "\n",
       "_C14: 2 pilot_status_((9,_902),_'A') + pilot_status_((9,_902),_'B')\n",
       " + 2 pilot_status_((9,_902),_'C') + pilot_status_((9,_902),_'D')\n",
       " + 2 pilot_status_((9,_902),_'E') >= 1\n",
       "\n",
       "VARIABLES\n",
       "0 <= pilot_status_((1,_101),_'A') <= 1 Integer\n",
       "0 <= pilot_status_((1,_101),_'B') <= 1 Integer\n",
       "0 <= pilot_status_((1,_101),_'C') <= 1 Integer\n",
       "0 <= pilot_status_((1,_101),_'D') <= 1 Integer\n",
       "0 <= pilot_status_((1,_101),_'E') <= 1 Integer\n",
       "0 <= pilot_status_((1,_102),_'A') <= 1 Integer\n",
       "0 <= pilot_status_((1,_102),_'B') <= 1 Integer\n",
       "0 <= pilot_status_((1,_102),_'C') <= 1 Integer\n",
       "0 <= pilot_status_((1,_102),_'D') <= 1 Integer\n",
       "0 <= pilot_status_((1,_102),_'E') <= 1 Integer\n",
       "0 <= pilot_status_((2,_201),_'A') <= 1 Integer\n",
       "0 <= pilot_status_((2,_201),_'B') <= 1 Integer\n",
       "0 <= pilot_status_((2,_201),_'C') <= 1 Integer\n",
       "0 <= pilot_status_((2,_201),_'D') <= 1 Integer\n",
       "0 <= pilot_status_((2,_201),_'E') <= 1 Integer\n",
       "0 <= pilot_status_((3,_301),_'A') <= 1 Integer\n",
       "0 <= pilot_status_((3,_301),_'B') <= 1 Integer\n",
       "0 <= pilot_status_((3,_301),_'C') <= 1 Integer\n",
       "0 <= pilot_status_((3,_301),_'D') <= 1 Integer\n",
       "0 <= pilot_status_((3,_301),_'E') <= 1 Integer\n",
       "0 <= pilot_status_((3,_302),_'A') <= 1 Integer\n",
       "0 <= pilot_status_((3,_302),_'B') <= 1 Integer\n",
       "0 <= pilot_status_((3,_302),_'C') <= 1 Integer\n",
       "0 <= pilot_status_((3,_302),_'D') <= 1 Integer\n",
       "0 <= pilot_status_((3,_302),_'E') <= 1 Integer\n",
       "0 <= pilot_status_((4,_401),_'A') <= 1 Integer\n",
       "0 <= pilot_status_((4,_401),_'B') <= 1 Integer\n",
       "0 <= pilot_status_((4,_401),_'C') <= 1 Integer\n",
       "0 <= pilot_status_((4,_401),_'D') <= 1 Integer\n",
       "0 <= pilot_status_((4,_401),_'E') <= 1 Integer\n",
       "0 <= pilot_status_((5,_501),_'A') <= 1 Integer\n",
       "0 <= pilot_status_((5,_501),_'B') <= 1 Integer\n",
       "0 <= pilot_status_((5,_501),_'C') <= 1 Integer\n",
       "0 <= pilot_status_((5,_501),_'D') <= 1 Integer\n",
       "0 <= pilot_status_((5,_501),_'E') <= 1 Integer\n",
       "0 <= pilot_status_((5,_502),_'A') <= 1 Integer\n",
       "0 <= pilot_status_((5,_502),_'B') <= 1 Integer\n",
       "0 <= pilot_status_((5,_502),_'C') <= 1 Integer\n",
       "0 <= pilot_status_((5,_502),_'D') <= 1 Integer\n",
       "0 <= pilot_status_((5,_502),_'E') <= 1 Integer\n",
       "0 <= pilot_status_((6,_601),_'A') <= 1 Integer\n",
       "0 <= pilot_status_((6,_601),_'B') <= 1 Integer\n",
       "0 <= pilot_status_((6,_601),_'C') <= 1 Integer\n",
       "0 <= pilot_status_((6,_601),_'D') <= 1 Integer\n",
       "0 <= pilot_status_((6,_601),_'E') <= 1 Integer\n",
       "0 <= pilot_status_((7,_701),_'A') <= 1 Integer\n",
       "0 <= pilot_status_((7,_701),_'B') <= 1 Integer\n",
       "0 <= pilot_status_((7,_701),_'C') <= 1 Integer\n",
       "0 <= pilot_status_((7,_701),_'D') <= 1 Integer\n",
       "0 <= pilot_status_((7,_701),_'E') <= 1 Integer\n",
       "0 <= pilot_status_((7,_702),_'A') <= 1 Integer\n",
       "0 <= pilot_status_((7,_702),_'B') <= 1 Integer\n",
       "0 <= pilot_status_((7,_702),_'C') <= 1 Integer\n",
       "0 <= pilot_status_((7,_702),_'D') <= 1 Integer\n",
       "0 <= pilot_status_((7,_702),_'E') <= 1 Integer\n",
       "0 <= pilot_status_((8,_801),_'A') <= 1 Integer\n",
       "0 <= pilot_status_((8,_801),_'B') <= 1 Integer\n",
       "0 <= pilot_status_((8,_801),_'C') <= 1 Integer\n",
       "0 <= pilot_status_((8,_801),_'D') <= 1 Integer\n",
       "0 <= pilot_status_((8,_801),_'E') <= 1 Integer\n",
       "0 <= pilot_status_((9,_901),_'A') <= 1 Integer\n",
       "0 <= pilot_status_((9,_901),_'B') <= 1 Integer\n",
       "0 <= pilot_status_((9,_901),_'C') <= 1 Integer\n",
       "0 <= pilot_status_((9,_901),_'D') <= 1 Integer\n",
       "0 <= pilot_status_((9,_901),_'E') <= 1 Integer\n",
       "0 <= pilot_status_((9,_902),_'A') <= 1 Integer\n",
       "0 <= pilot_status_((9,_902),_'B') <= 1 Integer\n",
       "0 <= pilot_status_((9,_902),_'C') <= 1 Integer\n",
       "0 <= pilot_status_((9,_902),_'D') <= 1 Integer\n",
       "0 <= pilot_status_((9,_902),_'E') <= 1 Integer"
      ]
     },
     "execution_count": 12,
     "metadata": {},
     "output_type": "execute_result"
    }
   ],
   "source": [
    "model"
   ]
  },
  {
   "cell_type": "markdown",
   "metadata": {},
   "source": [
    "We then solve the model"
   ]
  },
  {
   "cell_type": "code",
   "execution_count": 13,
   "metadata": {},
   "outputs": [
    {
     "data": {
      "text/plain": [
       "'Optimal'"
      ]
     },
     "execution_count": 13,
     "metadata": {},
     "output_type": "execute_result"
    }
   ],
   "source": [
    "model.solve()\n",
    "pulp.LpStatus[model.status]"
   ]
  },
  {
   "cell_type": "markdown",
   "metadata": {},
   "source": [
    "Let's take a look at the optimal production schedule output for each month from each factory. For ease of viewing we'll output the data to a pandas DataFrame."
   ]
  },
  {
   "cell_type": "code",
   "execution_count": 14,
   "metadata": {},
   "outputs": [
    {
     "data": {
      "text/plain": [
       "{((1, 101), 'A'): pilot_status_((1,_101),_'A'),\n",
       " ((1, 101), 'B'): pilot_status_((1,_101),_'B'),\n",
       " ((1, 101), 'C'): pilot_status_((1,_101),_'C'),\n",
       " ((1, 101), 'D'): pilot_status_((1,_101),_'D'),\n",
       " ((1, 101), 'E'): pilot_status_((1,_101),_'E'),\n",
       " ((1, 102), 'A'): pilot_status_((1,_102),_'A'),\n",
       " ((1, 102), 'B'): pilot_status_((1,_102),_'B'),\n",
       " ((1, 102), 'C'): pilot_status_((1,_102),_'C'),\n",
       " ((1, 102), 'D'): pilot_status_((1,_102),_'D'),\n",
       " ((1, 102), 'E'): pilot_status_((1,_102),_'E'),\n",
       " ((2, 201), 'A'): pilot_status_((2,_201),_'A'),\n",
       " ((2, 201), 'B'): pilot_status_((2,_201),_'B'),\n",
       " ((2, 201), 'C'): pilot_status_((2,_201),_'C'),\n",
       " ((2, 201), 'D'): pilot_status_((2,_201),_'D'),\n",
       " ((2, 201), 'E'): pilot_status_((2,_201),_'E'),\n",
       " ((3, 301), 'A'): pilot_status_((3,_301),_'A'),\n",
       " ((3, 301), 'B'): pilot_status_((3,_301),_'B'),\n",
       " ((3, 301), 'C'): pilot_status_((3,_301),_'C'),\n",
       " ((3, 301), 'D'): pilot_status_((3,_301),_'D'),\n",
       " ((3, 301), 'E'): pilot_status_((3,_301),_'E'),\n",
       " ((3, 302), 'A'): pilot_status_((3,_302),_'A'),\n",
       " ((3, 302), 'B'): pilot_status_((3,_302),_'B'),\n",
       " ((3, 302), 'C'): pilot_status_((3,_302),_'C'),\n",
       " ((3, 302), 'D'): pilot_status_((3,_302),_'D'),\n",
       " ((3, 302), 'E'): pilot_status_((3,_302),_'E'),\n",
       " ((4, 401), 'A'): pilot_status_((4,_401),_'A'),\n",
       " ((4, 401), 'B'): pilot_status_((4,_401),_'B'),\n",
       " ((4, 401), 'C'): pilot_status_((4,_401),_'C'),\n",
       " ((4, 401), 'D'): pilot_status_((4,_401),_'D'),\n",
       " ((4, 401), 'E'): pilot_status_((4,_401),_'E'),\n",
       " ((5, 501), 'A'): pilot_status_((5,_501),_'A'),\n",
       " ((5, 501), 'B'): pilot_status_((5,_501),_'B'),\n",
       " ((5, 501), 'C'): pilot_status_((5,_501),_'C'),\n",
       " ((5, 501), 'D'): pilot_status_((5,_501),_'D'),\n",
       " ((5, 501), 'E'): pilot_status_((5,_501),_'E'),\n",
       " ((5, 502), 'A'): pilot_status_((5,_502),_'A'),\n",
       " ((5, 502), 'B'): pilot_status_((5,_502),_'B'),\n",
       " ((5, 502), 'C'): pilot_status_((5,_502),_'C'),\n",
       " ((5, 502), 'D'): pilot_status_((5,_502),_'D'),\n",
       " ((5, 502), 'E'): pilot_status_((5,_502),_'E'),\n",
       " ((6, 601), 'A'): pilot_status_((6,_601),_'A'),\n",
       " ((6, 601), 'B'): pilot_status_((6,_601),_'B'),\n",
       " ((6, 601), 'C'): pilot_status_((6,_601),_'C'),\n",
       " ((6, 601), 'D'): pilot_status_((6,_601),_'D'),\n",
       " ((6, 601), 'E'): pilot_status_((6,_601),_'E'),\n",
       " ((7, 701), 'A'): pilot_status_((7,_701),_'A'),\n",
       " ((7, 701), 'B'): pilot_status_((7,_701),_'B'),\n",
       " ((7, 701), 'C'): pilot_status_((7,_701),_'C'),\n",
       " ((7, 701), 'D'): pilot_status_((7,_701),_'D'),\n",
       " ((7, 701), 'E'): pilot_status_((7,_701),_'E'),\n",
       " ((7, 702), 'A'): pilot_status_((7,_702),_'A'),\n",
       " ((7, 702), 'B'): pilot_status_((7,_702),_'B'),\n",
       " ((7, 702), 'C'): pilot_status_((7,_702),_'C'),\n",
       " ((7, 702), 'D'): pilot_status_((7,_702),_'D'),\n",
       " ((7, 702), 'E'): pilot_status_((7,_702),_'E'),\n",
       " ((8, 801), 'A'): pilot_status_((8,_801),_'A'),\n",
       " ((8, 801), 'B'): pilot_status_((8,_801),_'B'),\n",
       " ((8, 801), 'C'): pilot_status_((8,_801),_'C'),\n",
       " ((8, 801), 'D'): pilot_status_((8,_801),_'D'),\n",
       " ((8, 801), 'E'): pilot_status_((8,_801),_'E'),\n",
       " ((9, 901), 'A'): pilot_status_((9,_901),_'A'),\n",
       " ((9, 901), 'B'): pilot_status_((9,_901),_'B'),\n",
       " ((9, 901), 'C'): pilot_status_((9,_901),_'C'),\n",
       " ((9, 901), 'D'): pilot_status_((9,_901),_'D'),\n",
       " ((9, 901), 'E'): pilot_status_((9,_901),_'E'),\n",
       " ((9, 902), 'A'): pilot_status_((9,_902),_'A'),\n",
       " ((9, 902), 'B'): pilot_status_((9,_902),_'B'),\n",
       " ((9, 902), 'C'): pilot_status_((9,_902),_'C'),\n",
       " ((9, 902), 'D'): pilot_status_((9,_902),_'D'),\n",
       " ((9, 902), 'E'): pilot_status_((9,_902),_'E')}"
      ]
     },
     "execution_count": 14,
     "metadata": {},
     "output_type": "execute_result"
    }
   ],
   "source": [
    "pilot_status"
   ]
  },
  {
   "cell_type": "code",
   "execution_count": 15,
   "metadata": {},
   "outputs": [],
   "source": [
    "output = []\n",
    "for GO, PILOT in pilot_status:\n",
    "    var_output = {\n",
    "        'GO': GO,\n",
    "        'PILOT': PILOT,\n",
    "        'FLYING': pilot_status[(GO, PILOT)].varValue\n",
    "    }\n",
    "    output.append(var_output)"
   ]
  },
  {
   "cell_type": "code",
   "execution_count": 17,
   "metadata": {},
   "outputs": [
    {
     "name": "stdout",
     "output_type": "stream",
     "text": [
      "                FLYING\n",
      "GO       PILOT        \n",
      "(1, 101) A         1.0\n",
      "         B         1.0\n",
      "         C         1.0\n",
      "         D         1.0\n",
      "         E         1.0\n",
      "...                ...\n",
      "(9, 902) A         0.0\n",
      "         B         0.0\n",
      "         C         0.0\n",
      "         D         0.0\n",
      "         E         1.0\n",
      "\n",
      "[70 rows x 1 columns]\n"
     ]
    }
   ],
   "source": [
    "output_df = pd.DataFrame.from_records(output).sort_values(['GO', 'PILOT'])\n",
    "output_df.set_index(['GO', 'PILOT'], inplace=True)\n",
    "print(output_df)"
   ]
  },
  {
   "cell_type": "markdown",
   "metadata": {},
   "source": [
    "Notice above that the factory status is 0 when not producing and 1 when it is producing"
   ]
  },
  {
   "cell_type": "code",
   "execution_count": 18,
   "metadata": {},
   "outputs": [
    {
     "data": {
      "text/plain": [
       "[{'GO': (1, 101), 'PILOT': 'A', 'FLYING': 1.0},\n",
       " {'GO': (1, 101), 'PILOT': 'B', 'FLYING': 1.0},\n",
       " {'GO': (1, 101), 'PILOT': 'C', 'FLYING': 1.0},\n",
       " {'GO': (1, 101), 'PILOT': 'D', 'FLYING': 1.0},\n",
       " {'GO': (1, 101), 'PILOT': 'E', 'FLYING': 1.0},\n",
       " {'GO': (1, 102), 'PILOT': 'A', 'FLYING': 1.0},\n",
       " {'GO': (1, 102), 'PILOT': 'B', 'FLYING': 0.0},\n",
       " {'GO': (1, 102), 'PILOT': 'C', 'FLYING': 0.0},\n",
       " {'GO': (1, 102), 'PILOT': 'D', 'FLYING': 0.0},\n",
       " {'GO': (1, 102), 'PILOT': 'E', 'FLYING': 0.0},\n",
       " {'GO': (2, 201), 'PILOT': 'A', 'FLYING': 1.0},\n",
       " {'GO': (2, 201), 'PILOT': 'B', 'FLYING': 1.0},\n",
       " {'GO': (2, 201), 'PILOT': 'C', 'FLYING': 1.0},\n",
       " {'GO': (2, 201), 'PILOT': 'D', 'FLYING': 1.0},\n",
       " {'GO': (2, 201), 'PILOT': 'E', 'FLYING': 1.0},\n",
       " {'GO': (3, 301), 'PILOT': 'A', 'FLYING': 1.0},\n",
       " {'GO': (3, 301), 'PILOT': 'B', 'FLYING': 1.0},\n",
       " {'GO': (3, 301), 'PILOT': 'C', 'FLYING': 1.0},\n",
       " {'GO': (3, 301), 'PILOT': 'D', 'FLYING': 1.0},\n",
       " {'GO': (3, 301), 'PILOT': 'E', 'FLYING': 1.0},\n",
       " {'GO': (3, 302), 'PILOT': 'A', 'FLYING': 0.0},\n",
       " {'GO': (3, 302), 'PILOT': 'B', 'FLYING': 0.0},\n",
       " {'GO': (3, 302), 'PILOT': 'C', 'FLYING': 0.0},\n",
       " {'GO': (3, 302), 'PILOT': 'D', 'FLYING': 1.0},\n",
       " {'GO': (3, 302), 'PILOT': 'E', 'FLYING': 0.0},\n",
       " {'GO': (4, 401), 'PILOT': 'A', 'FLYING': 1.0},\n",
       " {'GO': (4, 401), 'PILOT': 'B', 'FLYING': 1.0},\n",
       " {'GO': (4, 401), 'PILOT': 'C', 'FLYING': 1.0},\n",
       " {'GO': (4, 401), 'PILOT': 'D', 'FLYING': 1.0},\n",
       " {'GO': (4, 401), 'PILOT': 'E', 'FLYING': 1.0},\n",
       " {'GO': (5, 501), 'PILOT': 'A', 'FLYING': 1.0},\n",
       " {'GO': (5, 501), 'PILOT': 'B', 'FLYING': 1.0},\n",
       " {'GO': (5, 501), 'PILOT': 'C', 'FLYING': 1.0},\n",
       " {'GO': (5, 501), 'PILOT': 'D', 'FLYING': 1.0},\n",
       " {'GO': (5, 501), 'PILOT': 'E', 'FLYING': 1.0},\n",
       " {'GO': (5, 502), 'PILOT': 'A', 'FLYING': 1.0},\n",
       " {'GO': (5, 502), 'PILOT': 'B', 'FLYING': 0.0},\n",
       " {'GO': (5, 502), 'PILOT': 'C', 'FLYING': 0.0},\n",
       " {'GO': (5, 502), 'PILOT': 'D', 'FLYING': 0.0},\n",
       " {'GO': (5, 502), 'PILOT': 'E', 'FLYING': 0.0},\n",
       " {'GO': (6, 601), 'PILOT': 'A', 'FLYING': 1.0},\n",
       " {'GO': (6, 601), 'PILOT': 'B', 'FLYING': 1.0},\n",
       " {'GO': (6, 601), 'PILOT': 'C', 'FLYING': 1.0},\n",
       " {'GO': (6, 601), 'PILOT': 'D', 'FLYING': 1.0},\n",
       " {'GO': (6, 601), 'PILOT': 'E', 'FLYING': 1.0},\n",
       " {'GO': (7, 701), 'PILOT': 'A', 'FLYING': 1.0},\n",
       " {'GO': (7, 701), 'PILOT': 'B', 'FLYING': 1.0},\n",
       " {'GO': (7, 701), 'PILOT': 'C', 'FLYING': 1.0},\n",
       " {'GO': (7, 701), 'PILOT': 'D', 'FLYING': 1.0},\n",
       " {'GO': (7, 701), 'PILOT': 'E', 'FLYING': 1.0},\n",
       " {'GO': (7, 702), 'PILOT': 'A', 'FLYING': 0.0},\n",
       " {'GO': (7, 702), 'PILOT': 'B', 'FLYING': 0.0},\n",
       " {'GO': (7, 702), 'PILOT': 'C', 'FLYING': 0.0},\n",
       " {'GO': (7, 702), 'PILOT': 'D', 'FLYING': 0.0},\n",
       " {'GO': (7, 702), 'PILOT': 'E', 'FLYING': 1.0},\n",
       " {'GO': (8, 801), 'PILOT': 'A', 'FLYING': 1.0},\n",
       " {'GO': (8, 801), 'PILOT': 'B', 'FLYING': 1.0},\n",
       " {'GO': (8, 801), 'PILOT': 'C', 'FLYING': 1.0},\n",
       " {'GO': (8, 801), 'PILOT': 'D', 'FLYING': 1.0},\n",
       " {'GO': (8, 801), 'PILOT': 'E', 'FLYING': 1.0},\n",
       " {'GO': (9, 901), 'PILOT': 'A', 'FLYING': 1.0},\n",
       " {'GO': (9, 901), 'PILOT': 'B', 'FLYING': 1.0},\n",
       " {'GO': (9, 901), 'PILOT': 'C', 'FLYING': 1.0},\n",
       " {'GO': (9, 901), 'PILOT': 'D', 'FLYING': 1.0},\n",
       " {'GO': (9, 901), 'PILOT': 'E', 'FLYING': 1.0},\n",
       " {'GO': (9, 902), 'PILOT': 'A', 'FLYING': 0.0},\n",
       " {'GO': (9, 902), 'PILOT': 'B', 'FLYING': 0.0},\n",
       " {'GO': (9, 902), 'PILOT': 'C', 'FLYING': 0.0},\n",
       " {'GO': (9, 902), 'PILOT': 'D', 'FLYING': 0.0},\n",
       " {'GO': (9, 902), 'PILOT': 'E', 'FLYING': 1.0}]"
      ]
     },
     "execution_count": 18,
     "metadata": {},
     "output_type": "execute_result"
    }
   ],
   "source": [
    "output"
   ]
  },
  {
   "cell_type": "code",
   "execution_count": null,
   "metadata": {},
   "outputs": [],
   "source": []
  }
 ],
 "metadata": {
  "kernelspec": {
   "display_name": "Python 3",
   "language": "python",
   "name": "python3"
  },
  "language_info": {
   "codemirror_mode": {
    "name": "ipython",
    "version": 3
   },
   "file_extension": ".py",
   "mimetype": "text/x-python",
   "name": "python",
   "nbconvert_exporter": "python",
   "pygments_lexer": "ipython3",
   "version": "3.6.12"
  }
 },
 "nbformat": 4,
 "nbformat_minor": 1
}
